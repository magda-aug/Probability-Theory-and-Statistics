{
 "cells": [
  {
   "cell_type": "markdown",
   "metadata": {},
   "source": [
    "# Mean and standard deviation\n",
    "### Magdalena Augustyńska"
   ]
  },
  {
   "cell_type": "code",
   "execution_count": 1,
   "metadata": {},
   "outputs": [],
   "source": [
    "from numpy.random import poisson\n",
    "import matplotlib.pyplot as plt\n",
    "import numpy as np\n",
    "import math\n",
    "from scipy import stats\n",
    "import random\n",
    "from scipy.stats import norm"
   ]
  },
  {
   "cell_type": "markdown",
   "metadata": {},
   "source": [
    "**Problem 3b.** In this task we consider a discrete distribution *without a mean* and verify whether we can still estimate the location of its peak by simply computing averages. Consider a discrete variable $X$ with the following distribution: $P(X=k) = \\frac{1}{4|k|(|k|+1)}$ for $k \\neq 0$ and $P(X=0) = \\frac{1}{2}$. \n",
    " * Argue that these formulas indeed describe a discrete distribution.\n",
    " * Show that $X$ does not have a mean.\n",
    " * Plot the function $f(k) = P(X=k)$ for $k \\in [-10,10]$.\n",
    " * Write a function that samples from $X$'s distribution (imaginary bonus points if it is vectorized).\n",
    " * Generate $N=10\\,000$ values $x_1,\\ldots,x_n$ from the distribution.\n",
    " * For $i \\in \\{1,\\ldots,n\\}$ compute $\\bar{x}_i = \\frac{x_1+\\ldots+x_i}{i}$. \n",
    " * Plot the values of $\\bar{x}_i$. Does it look like the series converges? If it is not clear, you can compute several independent\n",
    "   $N$-means and plot a histogram, then increase $N$ significantly and see how it changes.\n",
    " * For $i \\in \\{1,\\ldots,n\\}$ compute $\\hat{x}_i = \\textrm{ median of }\\{x_1,\\ldots,x_i\\}$. \n",
    "   You do not need to do it in a clever way (like in ASD lab).\n",
    " * Plot the values of $\\hat{x}_i$. Does it look like the series converges? \n",
    " * A more interesting situation would be the one where you a given a distribution like $X+c$ for unknown $c$, and \n",
    "   want to figure out what $c$ is, i.e. find the center of the distribution. Both methods above attempt to\n",
    "   locate the center - which works better?"
   ]
  },
  {
   "cell_type": "markdown",
   "metadata": {},
   "source": [
    "* Argue that these formulas indeed describe a discrete distribution."
   ]
  },
  {
   "cell_type": "markdown",
   "metadata": {},
   "source": [
    "These formulas describe discrete distribution because $\\sum_{k \\in R} P(X=k) = 1$."
   ]
  },
  {
   "cell_type": "markdown",
   "metadata": {},
   "source": [
    "$\\sum_{k \\in R} P(X=k)$ = $\\frac{1}{2} + \\sum_{k=1}^\\infty \\frac{1}{4|k|(|k|+1)} + \\sum_{k=-1}^{-\\infty} \\frac{1}{4|k|(|k|+1)}$ = $\\frac{1}{2} + \\frac{1}{2} * \\sum_{k=1}^\\infty \\frac{1}{k(k+1)} = \\frac{1}{2} + \\frac{1}{2} * \\sum_{k=1}^\\infty [ \\frac{1}{k} - \\frac{1}{k+1} ] = $  \n",
    "$\\frac{1}{2} + \\frac{1}{2} + \\frac{1}{2} * \\sum_{k=2}^\\infty \\frac{1}{k} - \\frac{1}{2} * \\sum_{k=1}^\\infty \\frac{1}{k+1}$ = 1"
   ]
  },
  {
   "cell_type": "markdown",
   "metadata": {},
   "source": [
    "* Show that $X$ does not have a mean."
   ]
  },
  {
   "cell_type": "markdown",
   "metadata": {},
   "source": [
    "$\\sum_{k \\in R} kP(X=k) = \\frac{1}{2} * 0 + \\sum_{k=1}^\\infty \\frac{k}{4|k|(|k|+1)} + \\sum_{k=-\\infty}^{-1} \\frac{k}{4|k|(|k|+1)} = \\sum_{k=1}^\\infty \\frac{1}{4(|k|+1)} - \\sum_{k=-\\infty}^{-1} \\frac{1}{4(|k|+1)} = \\sum_{k \\in N, k \\neq 0}^\\infty \\frac{1}{4(|k|+1)} = \\sum_{k \\in N} \\frac{1}{4(|k|+1)} - \\frac{1}{4} = \\frac{1}{4}\\sum_{k \\in N} \\frac{1}{|k|+1} - \\frac{1}{4} = \\frac{1}{4}\\sum_{k \\in N} \\frac{1}{k+1} - \\frac{1}{4}$"
   ]
  },
  {
   "cell_type": "markdown",
   "metadata": {},
   "source": [
    "Sequence $\\sum_{k \\in N} \\frac{1}{k}$ is divergent, therefore mean of variable X is divergent and doesn't exist."
   ]
  },
  {
   "cell_type": "markdown",
   "metadata": {},
   "source": [
    "* Plot the function $f(k) = P(X=k)$ for $k \\in [-10,10]$."
   ]
  },
  {
   "cell_type": "code",
   "execution_count": 2,
   "metadata": {},
   "outputs": [],
   "source": [
    "def f(k):\n",
    "    if k == 0:\n",
    "        return 1/2\n",
    "    return 1/(4*abs(k)*(abs(k) + 1))"
   ]
  },
  {
   "cell_type": "code",
   "execution_count": 3,
   "metadata": {},
   "outputs": [],
   "source": [
    "x = list(range(-10, 11))"
   ]
  },
  {
   "cell_type": "code",
   "execution_count": 4,
   "metadata": {},
   "outputs": [
    {
     "data": {
      "text/plain": [
       "[<matplotlib.lines.Line2D at 0x7f18f6585630>]"
      ]
     },
     "execution_count": 4,
     "metadata": {},
     "output_type": "execute_result"
    },
    {
     "data": {
      "image/png": "[encoded data removed]",
      "text/plain": [
       "<Figure size 432x288 with 1 Axes>"
      ]
     },
     "metadata": {},
     "output_type": "display_data"
    }
   ],
   "source": [
    "plt.plot(x, [f(arg) for arg in x])"
   ]
  },
  {
   "cell_type": "markdown",
   "metadata": {},
   "source": [
    "* Write a function that samples from $X$'s distribution (imaginary bonus points if it is vectorized)."
   ]
  },
  {
   "cell_type": "markdown",
   "metadata": {},
   "source": [
    "I will sample from $X$'s distribution using inverse tranform sampling. In order to do that we first need to find CDF of variable X."
   ]
  },
  {
   "cell_type": "markdown",
   "metadata": {},
   "source": [
    "For k < 0: $F(k) = P(X \\leqslant k) = \\sum_{i=-\\infty}^{k} \\frac{1}{4|i|(|i|+1)} = \\sum_{i=-k}^{\\infty} \\frac{1}{4i(i+1)} = \\frac{1}{4} * \\sum_{i=-k}^\\infty \\frac{1}{i} - \\frac{1}{4} * \\sum_{i=-k}^\\infty \\frac{1}{i+1} = \\frac{1}{4} * \\frac{1}{-k} + \\frac{1}{4} * \\sum_{i=-k+1}^\\infty \\frac{1}{i} - \\frac{1}{4} * \\sum_{i=-k}^\\infty \\frac{1}{i+1} = -\\frac{1}{4k}$\n"
   ]
  },
  {
   "cell_type": "markdown",
   "metadata": {},
   "source": [
    "For k = 0: $F(k) = P(X \\leqslant k) =  \\sum_{i=-\\infty}^{-1} \\frac{1}{4|i|(|i|+1)} + \\frac{1}{2} = P(X \\leqslant -1) + \\frac{1}{2} = \\frac{1}{4} + \\frac{1}{2} = \\frac{3}{4}$"
   ]
  },
  {
   "cell_type": "markdown",
   "metadata": {},
   "source": [
    "For k > 0: $F(k) = P(X \\leqslant k) = \\sum_{i=-\\infty}^{-1} \\frac{1}{4|i|(|i|+1)} + \\frac{1}{2} + \\sum_{i=1}^{k} \\frac{1}{4|i|(|i|+1)} = \\frac{3}{4} + \\sum_{i=1}^{k} \\frac{1}{4|i|(|i|+1)} = \\frac{3}{4} + \\frac{1}{4} * \\sum_{i=1}^{k} \\frac{1}{i} - \\frac{1}{4} * \\sum_{i=1}^{k} \\frac{1}{i+1} = \\frac{3}{4} + \\frac{1}{4}*1 - \\frac{1}{4}*\\frac{1}{k+1} = \\frac{3}{4} + \\frac{k}{4(k+1)} = \\frac{4k+3}{4(k+1)}$"
   ]
  },
  {
   "cell_type": "markdown",
   "metadata": {},
   "source": [
    "Now let's calculate the inverse of CDF."
   ]
  },
  {
   "cell_type": "markdown",
   "metadata": {},
   "source": [
    "For k < 0: $F^{-1}(k) = -\\frac{1}{4k}$"
   ]
  },
  {
   "cell_type": "markdown",
   "metadata": {},
   "source": [
    "For k = 0: $F^{-1}(k) = \\frac{3}{4}$"
   ]
  },
  {
   "cell_type": "markdown",
   "metadata": {},
   "source": [
    "For k < 0: $F^{-1}(k) = \\frac{3-4k}{4(k-1)}$"
   ]
  },
  {
   "cell_type": "code",
   "execution_count": 5,
   "metadata": {},
   "outputs": [],
   "source": [
    "def inverse_cdf(k):\n",
    "    if k < 0:\n",
    "        return 1/(4*k)\n",
    "    elif k == 0:\n",
    "        return 3/4\n",
    "    else:\n",
    "        return (3-4*k)/(4*(k-1))"
   ]
  },
  {
   "cell_type": "code",
   "execution_count": 6,
   "metadata": {},
   "outputs": [],
   "source": [
    "def sample_from_X(size):\n",
    "    return [inverse_cdf(random.random()) for x in range(size)]"
   ]
  },
  {
   "cell_type": "markdown",
   "metadata": {},
   "source": [
    "* Generate $N=10\\,000$ values $x_1,\\ldots,x_n$ from the distribution."
   ]
  },
  {
   "cell_type": "code",
   "execution_count": 7,
   "metadata": {},
   "outputs": [],
   "source": [
    "N = 10000\n",
    "samples = sample_from_X(N)"
   ]
  },
  {
   "cell_type": "markdown",
   "metadata": {},
   "source": [
    "* For $i \\in \\{1,\\ldots,n\\}$ compute $\\bar{x}_i = \\frac{x_1+\\ldots+x_i}{i}$. "
   ]
  },
  {
   "cell_type": "code",
   "execution_count": 8,
   "metadata": {},
   "outputs": [],
   "source": [
    "def vector_of_means(samples):\n",
    "    means = []\n",
    "    sum = 0\n",
    "    for i in range(len(samples)):\n",
    "        sum += samples[i]\n",
    "        means.append(sum/(i+1))\n",
    "    return means"
   ]
  },
  {
   "cell_type": "code",
   "execution_count": 9,
   "metadata": {},
   "outputs": [],
   "source": [
    "means = vector_of_means(samples)"
   ]
  },
  {
   "cell_type": "markdown",
   "metadata": {},
   "source": [
    "* Plot the values of $\\bar{x}_i$. Does it look like the series converges? If it is not clear, you can compute several independent $N$-means and plot a histogram, then increase $N$ significantly and see how it changes."
   ]
  },
  {
   "cell_type": "code",
   "execution_count": 10,
   "metadata": {},
   "outputs": [
    {
     "data": {
      "text/plain": [
       "[<matplotlib.lines.Line2D at 0x7f18f6470da0>]"
      ]
     },
     "execution_count": 10,
     "metadata": {},
     "output_type": "execute_result"
    },
    {
     "data": {
      "image/png": "[encoded data removed]",
      "text/plain": [
       "<Figure size 432x288 with 1 Axes>"
      ]
     },
     "metadata": {},
     "output_type": "display_data"
    }
   ],
   "source": [
    "plt.plot(means)"
   ]
  },
  {
   "cell_type": "markdown",
   "metadata": {},
   "source": [
    "* For $i \\in \\{1,\\ldots,n\\}$ compute $\\hat{x}_i = \\textrm{ median of }\\{x_1,\\ldots,x_i\\}$. \n",
    "   You do not need to do it in a clever way (like in ASD lab)."
   ]
  },
  {
   "cell_type": "code",
   "execution_count": 11,
   "metadata": {},
   "outputs": [],
   "source": [
    "def vector_of_medians(samples):\n",
    "    medians = []\n",
    "    for i in range(1, len(samples) + 1):\n",
    "        first_i_samples = samples[:i]\n",
    "        sorted_samples = sorted(first_i_samples)\n",
    "        if i%2 == 0:\n",
    "            left = i//2 - 1\n",
    "            right = i//2\n",
    "            med = (sorted_samples[left] + sorted_samples[right])/2\n",
    "        else:\n",
    "            mid = i//2\n",
    "            med = sorted_samples[mid]\n",
    "        medians.append(med)\n",
    "    return medians"
   ]
  },
  {
   "cell_type": "code",
   "execution_count": 12,
   "metadata": {},
   "outputs": [],
   "source": [
    "medians = vector_of_medians(samples)"
   ]
  },
  {
   "cell_type": "markdown",
   "metadata": {},
   "source": [
    "* Plot the values of $\\hat{x}_i$. Does it look like the series converges? "
   ]
  },
  {
   "cell_type": "code",
   "execution_count": 13,
   "metadata": {},
   "outputs": [
    {
     "data": {
      "text/plain": [
       "[<matplotlib.lines.Line2D at 0x7f18f6456240>]"
      ]
     },
     "execution_count": 13,
     "metadata": {},
     "output_type": "execute_result"
    },
    {
     "data": {
      "image/png": "[encoded data removed]",
      "text/plain": [
       "<Figure size 432x288 with 1 Axes>"
      ]
     },
     "metadata": {},
     "output_type": "display_data"
    }
   ],
   "source": [
    "plt.plot(medians)"
   ]
  },
  {
   "cell_type": "markdown",
   "metadata": {},
   "source": [
    "Yes, it looks like the series converges."
   ]
  }
 ],
 "metadata": {
  "kernelspec": {
   "display_name": "Python 3",
   "language": "python",
   "name": "python3"
  },
  "language_info": {
   "codemirror_mode": {
    "name": "ipython",
    "version": 3
   },
   "file_extension": ".py",
   "mimetype": "text/x-python",
   "name": "python",
   "nbconvert_exporter": "python",
   "pygments_lexer": "ipython3",
   "version": "3.5.2"
  }
 },
 "nbformat": 4,
 "nbformat_minor": 2
}
