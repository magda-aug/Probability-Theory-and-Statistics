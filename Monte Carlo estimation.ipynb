{
 "cells": [
  {
   "cell_type": "markdown",
   "metadata": {},
   "source": [
    "# Monte Carlo estimation"
   ]
  },
  {
   "cell_type": "markdown",
   "metadata": {},
   "source": [
    "### Magdalena Augustyńska"
   ]
  },
  {
   "cell_type": "code",
   "execution_count": 1,
   "metadata": {},
   "outputs": [],
   "source": [
    "import random\n",
    "import numpy as np"
   ]
  },
  {
   "cell_type": "markdown",
   "metadata": {},
   "source": [
    "**Problem 4d (Monte Carlo counting ctd).** \n",
    " * How many assignments satisfy clause $C_i$?\n",
    " * How can we estimate the probability that a random assignment which satisfies $C_i$ does not satisfy any earlier clauses (i.e., $C_j$ for $j < i$)?\n",
    " * How can we estimate the number of assignments which satisfy $C_i$ but do not satisfy any earlier clauses?\n",
    " * How can we use the result of the previous question to construct an algorithm estimating the number of satisfying assignments?\n"
   ]
  },
  {
   "cell_type": "code",
   "execution_count": 2,
   "metadata": {},
   "outputs": [],
   "source": [
    "#M = 4 # number of variables\n",
    "#phi = [ [1,-3,4], [-1,2] ]\n",
    "\n",
    "M = 64\n",
    "phi = [[55, 3, -50, -57, 2, 51, -5, -56, -45, 1], [28, -1, -26, 35, 42, -43, 45, -56, -11, 6], [-18, 43, 1, 64, -34, 28, 48, -13, 29, 49], [-21, 12, 7, -49, -25, -45, 8, -51, 5, -26], [6, -26, 27, 51, 2, 9, 49, 29, -42, -35], [-12, 4, -32, -60, 2, 56, 31, 58, -19, -46], [-10, -52, 25, -8, -56, -24, -51, 20, 36, 22], [-64, -26, -36, -14, 3, 42, -20, -59, 25, 33], [-31, -33, 40, -29, -12, -49, 28, 11, 7, 22], [-25, 23, -17, -61, 34, 32, 24, -52, -21, -26], [-48, -42, -43, -24, 14, 50, -64, 60, 7, -53], [-1, 2, -61, -24, -53, 34, -13, 36, -46, 3], [3, -52, 60, 39, 9, 59, 57, 32, 6, -7], [-17, -28, -58, 33, 16, -22, -13, 26, 18, -11], [47, -39, 46, 40, -18, 24, 6, -23, -64, -22], [-6, 60, 35, 1, 52, 18, -33, 43, 45, -11], [57, -34, -32, 16, -41, -25, 37, 40, 43, -5], [58, -51, -40, 42, 5, 27, -41, 20, 32, 30], [-48, -11, -15, -14, -27, 17, -33, 55, -64, -51], [-11, -8, 48, 57, 42, 64, 40, -45, 13, -25], [-40, -39, 46, -36, -51, -58, 14, 7, -18, -6], [31, 38, -11, -45, -14, -9, -63, 27, -35, -46], [40, 11, 28, -26, -25, -20, -41, 16, 61, -32], [-35, 6, -58, 30, 62, -36, -7, -37, 38, 51], [-13, 58, 1, 14, 52, 8, 45, -49, -21, 51], [10, -62, -39, -57, 15, -40, 56, -31, -47, 23], [37, 22, -21, 52, -5, -19, -7, 50, 34, 9], [18, 14, -31, 27, -2, 5, 3, 48, 63, -34], [-43, 39, -29, 34, 60, -10, -61, -49, -42, 57], [-32, -29, -16, 53, -38, 52, -36, -62, -5, 45], [-28, 25, -31, -41, -44, -37, 20, 48, 59, 24], [49, -59, -13, -56, -29, -2, -45, -62, -38, -26], [-33, -31, 53, 64, 15, 17, 12, 50, 46, -54], [56, 57, 22, 4, 46, 21, 49, 14, 43, -41], [-8, 18, -21, -15, -42, -64, 45, 14, 13, -33], [-32, 62, 2, 10, -49, -64, 15, -35, -20, -17], [54, -64, -20, 37, -5, -26, -41, -35, 32, -25], [60, 58, -23, -43, -2, 15, 10, 9, 59, -45], [9, 29, -17, 45, -53, 18, 19, 50, 42, -61], [54, -51, 9, -52, -40, -37, -18, -59, 48, 3], [-32, -17, 38, 12, -27, 45, 57, -51, 56, 4], [-12, 62, -17, -50, -32, -45, -56, 46, 19, -61], [51, -27, 56, 45, 59, -25, 3, -18, 60, -44], [-50, 5, -10, 12, -23, -41, 31, -59, -35, 30], [-5, 18, -4, -63, 22, -40, 10, -62, 61, -35], [1, -10, 31, -41, 56, -17, -61, 22, 46, -14], [-45, 32, 54, -48, -25, 10, 31, -63, 38, -17], [50, -46, 44, -57, -45, -1, -63, 15, 4, 12], [-39, -28, 49, -9, 53, 25, 47, -6, 24, -36], [-41, 59, 13, 15, 21, -20, -19, 2, -22, 37], [-31, 23, -57, -38, 30, 59, 28, 6, 53, 26], [-38, -62, 14, 26, 12, 46, 10, 35, -18, -43], [20, -10, -48, -62, -17, -27, 49, -11, 59, 7], [-43, -46, -14, -31, -62, 52, -10, 40, -63, 32], [15, -12, 43, -19, -34, -25, -14, 62, 50, 61], [24, -52, 32, 61, 18, -44, 49, 29, 55, -57], [-27, 25, 55, -57, 12, 9, -43, 29, 36, 18], [13, -27, 21, -24, -8, 39, -60, 34, -11, 54], [-51, -3, 12, 26, -9, -23, -18, 28, 24, 11], [-1, -10, 9, 35, -55, -30, 48, 53, -32, -24], [-59, -58, -30, -46, 17, 11, 3, -18, -1, -50], [-61, -52, 17, -4, -44, -56, 64, 37, -47, 46], [28, 59, -23, 29, -5, -41, 39, 57, 2, 34], [-54, 56, 5, -20, -6, 13, 49, 28, -42, 25]]\n"
   ]
  },
  {
   "cell_type": "markdown",
   "metadata": {},
   "source": [
    "Function saying if assignment satisfies given clause."
   ]
  },
  {
   "cell_type": "code",
   "execution_count": 3,
   "metadata": {},
   "outputs": [],
   "source": [
    "def satisfies(assignment, clause):\n",
    "    for var in clause:\n",
    "        if (var > 0 and assignment[var - 1] == 0) or (var < 0 and assignment[- var - 1] == 1):\n",
    "            return False\n",
    "    return True"
   ]
  },
  {
   "cell_type": "markdown",
   "metadata": {},
   "source": [
    "### ** How many assignments satisfy clause $C_i$? **"
   ]
  },
  {
   "cell_type": "markdown",
   "metadata": {},
   "source": [
    "For  \n",
    "$n$ - number of variables in DNF formula,  \n",
    "$k_{i}$ - number of literals in clause $C_i$ \n",
    "  \n",
    "The number of assignments that satisfy clause $C_i$ is equal $2^{n - k_{i}}$. "
   ]
  },
  {
   "cell_type": "markdown",
   "metadata": {},
   "source": [
    "That is because if clause has $k_{i}$ literals, all of them are uniquely determined. The rest of the variables can be chosen arbitrary which leads to $2^{n - k_{i}}$."
   ]
  },
  {
   "cell_type": "markdown",
   "metadata": {},
   "source": [
    "### ** How can we estimate the probability that a random assignment which satisfies $C_i$ does not satisfy any earlier clauses (i.e., $C_j$ for $j < i$)? **"
   ]
  },
  {
   "cell_type": "markdown",
   "metadata": {},
   "source": [
    "We can fix the variables required by clause $C_i$ and then randomly assign values to other variables. Then we check if the resulting assignment satisfies any of the clauses $C_j$ for $j < i$. If it doesn't we count that trial as a success. We repeat this step N times.  \n",
    "Then the probability we look for is equal  \n",
    "$\\frac{s}{N}$  \n",
    "where $s$ is the number of successes."
   ]
  },
  {
   "cell_type": "markdown",
   "metadata": {},
   "source": [
    "### ** How can we estimate the number of assignments which satisfy $C_i$ but do not satisfy any earlier clauses? **"
   ]
  },
  {
   "cell_type": "markdown",
   "metadata": {},
   "source": [
    "We can estimate it by calculating the probability as described above and multiplying it by the cardinality of universe of all satisfying assignments $U$. But in the previous question we calculate probability that a random assignment which satisfies $C_i$ does not satisfy any earlier clauses (i.e., $C_j$ for $j < i$). So when the assignment satisfies multiple clauses, we count it only once as a success - if first of the satisfied assignment is assignment $C_i$. Then the universe of satisfying assignments $U$ consists of assignment and index of clause it satisfies. We count only so called canonical assignemnts as described earlier.  \n",
    "Let's define $U$ as the multiset union of sets $H_i$ for $i = 1, ..., m$, where $H_i$ is set of assignments that satisfy clause $C_i$. It means that $U$ contains the same elements many times. So we can define $U$ in other way - $U$ is the set of pairs $(v, i)$, where $v$ is the assignment and $i$ is the index of clause it satisfies. "
   ]
  },
  {
   "cell_type": "markdown",
   "metadata": {},
   "source": [
    "Then,  \n",
    "$|U| = \\sum_{i=1}^m |H_i| $"
   ]
  },
  {
   "cell_type": "markdown",
   "metadata": {},
   "source": [
    "Then number of assignments which satisfy $C_i$ but do not satisfy any earlier clauses can be estimated by:  \n",
    "$\\frac{s}{N}*|U|$"
   ]
  },
  {
   "cell_type": "markdown",
   "metadata": {},
   "source": [
    "### ** How can we use the result of the previous question to construct an algorithm estimating the number of satisfying assignments? **"
   ]
  },
  {
   "cell_type": "markdown",
   "metadata": {},
   "source": [
    "To construct an algorithm estimating the number of satisfying assignments we can perform it this way:  \n",
    "1. Let $s = 0$.\n",
    "2. Repeat $N$ times:\n",
    "   * Sample one of the clauses and fix its variables as required.\n",
    "   * Choose values of all other variables randomly. \n",
    "   * Check if the assignment satisifies any of the earlier clause - if it doesn't increment $s$.\n",
    "3. Return $\\frac{s}{N}*|U|$"
   ]
  },
  {
   "cell_type": "markdown",
   "metadata": {},
   "source": [
    "#### Helper functions"
   ]
  },
  {
   "cell_type": "markdown",
   "metadata": {},
   "source": [
    "Function returning list of number of literals contained in every clause."
   ]
  },
  {
   "cell_type": "code",
   "execution_count": 4,
   "metadata": {},
   "outputs": [],
   "source": [
    "def number_of_literals(formula):\n",
    "    res = []\n",
    "    for clause in formula:\n",
    "        res.append(len(clause))\n",
    "    return res"
   ]
  },
  {
   "cell_type": "markdown",
   "metadata": {},
   "source": [
    "Function returning list of probabilities of drawing each clause according to distribition of literals among clauses.  \n",
    "The function uses the fact that  \n",
    "$P($drawing clause i$) = \\frac{|H_{i}|}{|U|}$  \n",
    "where $H_{i}$ is set of assignments that satisfy clause $i$ and $|H_{i}| = 2^{n - k_{i}}$ where\n",
    "$k_{i}$ - number of literals in clause i."
   ]
  },
  {
   "cell_type": "code",
   "execution_count": 5,
   "metadata": {},
   "outputs": [],
   "source": [
    "def prob_of_clause(formula, n):\n",
    "    cardinalities = number_of_literals(formula)\n",
    "    sum_of_card = 0\n",
    "    for card in cardinalities:\n",
    "        sum_of_card += 2**(n - card)\n",
    "    return [(2**(n - i))/sum_of_card for i in cardinalities], sum_of_card"
   ]
  },
  {
   "cell_type": "markdown",
   "metadata": {},
   "source": [
    "Function choosing random satisfying assignment that satisfies clause given as parameter."
   ]
  },
  {
   "cell_type": "code",
   "execution_count": 6,
   "metadata": {},
   "outputs": [],
   "source": [
    "def assignment_for_clause(clause, n):\n",
    "    res = [None] * n\n",
    "    for literal in clause:\n",
    "        if literal > 0:\n",
    "            res[literal - 1] = 1\n",
    "        else:\n",
    "            res[- literal - 1] = 0\n",
    "    for i in range(n):\n",
    "        if res[i] is None:\n",
    "            res[i] = random.getrandbits(1)\n",
    "    return res"
   ]
  },
  {
   "cell_type": "markdown",
   "metadata": {},
   "source": [
    "Function returning random element $(v, i)$."
   ]
  },
  {
   "cell_type": "code",
   "execution_count": 7,
   "metadata": {},
   "outputs": [],
   "source": [
    "def select(formula, n, probs):\n",
    "    idx = np.random.choice(list(range(len(formula))), 1, p=probs)[0]\n",
    "    v = assignment_for_clause(formula[idx], n)\n",
    "    return v, idx"
   ]
  },
  {
   "cell_type": "markdown",
   "metadata": {},
   "source": [
    "Function checking if element $(v, i)$ from $U$ is canonical."
   ]
  },
  {
   "cell_type": "code",
   "execution_count": 8,
   "metadata": {},
   "outputs": [],
   "source": [
    "def is_canonical(assignment, clause_index, formula):\n",
    "    for i in range(clause_index):\n",
    "        if satisfies(assignment, formula[i]):\n",
    "            return False\n",
    "    return True"
   ]
  },
  {
   "cell_type": "markdown",
   "metadata": {},
   "source": [
    "#### Algorithm"
   ]
  },
  {
   "cell_type": "markdown",
   "metadata": {},
   "source": [
    "Function estimating the number of satisfying assignments."
   ]
  },
  {
   "cell_type": "code",
   "execution_count": 9,
   "metadata": {},
   "outputs": [],
   "source": [
    "def random_sampling(n, formula, N):\n",
    "    probs, U = prob_of_clause(formula, n)\n",
    "    s = 0\n",
    "    for i in range(N):\n",
    "        v, i = select(formula, n, probs)\n",
    "        if is_canonical(v, i, formula):\n",
    "            s += 1\n",
    "    return (s*U)/N\n",
    "    "
   ]
  },
  {
   "cell_type": "code",
   "execution_count": 10,
   "metadata": {},
   "outputs": [
    {
     "data": {
      "text/plain": [
       "1.106804644422573e+18"
      ]
     },
     "execution_count": 10,
     "metadata": {},
     "output_type": "execute_result"
    }
   ],
   "source": [
    "random_sampling(M, phi, 100)"
   ]
  }
 ],
 "metadata": {
  "kernelspec": {
   "display_name": "Python 3",
   "language": "python",
   "name": "python3"
  },
  "language_info": {
   "codemirror_mode": {
    "name": "ipython",
    "version": 3
   },
   "file_extension": ".py",
   "mimetype": "text/x-python",
   "name": "python",
   "nbconvert_exporter": "python",
   "pygments_lexer": "ipython3",
   "version": "3.5.2"
  }
 },
 "nbformat": 4,
 "nbformat_minor": 1
}
